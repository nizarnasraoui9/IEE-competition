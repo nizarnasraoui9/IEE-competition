{
 "cells": [
  {
   "cell_type": "code",
   "execution_count": 1,
   "metadata": {},
   "outputs": [],
   "source": [
    "import numpy as np\n",
    "import matplotlib.pyplot as plt\n",
    "import pandas as pd"
   ]
  },
  {
   "cell_type": "code",
   "execution_count": 2,
   "metadata": {},
   "outputs": [],
   "source": [
    "df=pd.read_csv('QualityCover-results.csv')"
   ]
  },
  {
   "cell_type": "code",
   "execution_count": 3,
   "metadata": {},
   "outputs": [
    {
     "data": {
      "text/html": [
       "<div>\n",
       "<style scoped>\n",
       "    .dataframe tbody tr th:only-of-type {\n",
       "        vertical-align: middle;\n",
       "    }\n",
       "\n",
       "    .dataframe tbody tr th {\n",
       "        vertical-align: top;\n",
       "    }\n",
       "\n",
       "    .dataframe thead th {\n",
       "        text-align: right;\n",
       "    }\n",
       "</style>\n",
       "<table border=\"1\" class=\"dataframe\">\n",
       "  <thead>\n",
       "    <tr style=\"text-align: right;\">\n",
       "      <th></th>\n",
       "      <th>Datasets</th>\n",
       "      <th>Objects</th>\n",
       "      <th>Attributes</th>\n",
       "      <th>Concepts</th>\n",
       "      <th>Density</th>\n",
       "      <th>N Stress</th>\n",
       "      <th>M stress</th>\n",
       "      <th>QualityCover</th>\n",
       "      <th>Gress</th>\n",
       "      <th>Cov =0.9</th>\n",
       "      <th>Cov =0.8</th>\n",
       "      <th>Cov =0.7</th>\n",
       "      <th>Cov =0.6</th>\n",
       "      <th>Cov =0.5</th>\n",
       "    </tr>\n",
       "  </thead>\n",
       "  <tbody>\n",
       "    <tr>\n",
       "      <th>0</th>\n",
       "      <td>apj</td>\n",
       "      <td>2,044</td>\n",
       "      <td>1,164</td>\n",
       "      <td>797</td>\n",
       "      <td>0.003</td>\n",
       "      <td>0.002</td>\n",
       "      <td>0.007</td>\n",
       "      <td>474</td>\n",
       "      <td>453.0</td>\n",
       "      <td>322</td>\n",
       "      <td>239</td>\n",
       "      <td>188</td>\n",
       "      <td>156</td>\n",
       "      <td>140</td>\n",
       "    </tr>\n",
       "    <tr>\n",
       "      <th>1</th>\n",
       "      <td>americas_large</td>\n",
       "      <td>3,485</td>\n",
       "      <td>10,127</td>\n",
       "      <td>36,990</td>\n",
       "      <td>0.005</td>\n",
       "      <td>0.003</td>\n",
       "      <td>0.009</td>\n",
       "      <td>636</td>\n",
       "      <td>NaN</td>\n",
       "      <td>214</td>\n",
       "      <td>182</td>\n",
       "      <td>172</td>\n",
       "      <td>169</td>\n",
       "      <td>168</td>\n",
       "    </tr>\n",
       "    <tr>\n",
       "      <th>2</th>\n",
       "      <td>DNA</td>\n",
       "      <td>4,590</td>\n",
       "      <td>392</td>\n",
       "      <td>4,482</td>\n",
       "      <td>0.015</td>\n",
       "      <td>0.013</td>\n",
       "      <td>0.034</td>\n",
       "      <td>377</td>\n",
       "      <td>372.0</td>\n",
       "      <td>208</td>\n",
       "      <td>158</td>\n",
       "      <td>124</td>\n",
       "      <td>100</td>\n",
       "      <td>81</td>\n",
       "    </tr>\n",
       "    <tr>\n",
       "      <th>3</th>\n",
       "      <td>customer</td>\n",
       "      <td>10,961</td>\n",
       "      <td>277</td>\n",
       "      <td>47,851</td>\n",
       "      <td>0.015</td>\n",
       "      <td>0.026</td>\n",
       "      <td>0.055</td>\n",
       "      <td>275</td>\n",
       "      <td>277.0</td>\n",
       "      <td>131</td>\n",
       "      <td>102</td>\n",
       "      <td>87</td>\n",
       "      <td>77</td>\n",
       "      <td>69</td>\n",
       "    </tr>\n",
       "    <tr>\n",
       "      <th>4</th>\n",
       "      <td>amercias_small</td>\n",
       "      <td>3,477</td>\n",
       "      <td>1,587</td>\n",
       "      <td>2,763</td>\n",
       "      <td>0.019</td>\n",
       "      <td>0.008</td>\n",
       "      <td>0.024</td>\n",
       "      <td>217</td>\n",
       "      <td>178.0</td>\n",
       "      <td>52</td>\n",
       "      <td>44</td>\n",
       "      <td>42</td>\n",
       "      <td>42</td>\n",
       "      <td>42</td>\n",
       "    </tr>\n",
       "  </tbody>\n",
       "</table>\n",
       "</div>"
      ],
      "text/plain": [
       "         Datasets Objects Attributes Concepts  Density  N Stress  M stress  \\\n",
       "0             apj   2,044      1,164      797    0.003     0.002     0.007   \n",
       "1  americas_large   3,485     10,127   36,990    0.005     0.003     0.009   \n",
       "2             DNA   4,590        392    4,482    0.015     0.013     0.034   \n",
       "3        customer  10,961        277   47,851    0.015     0.026     0.055   \n",
       "4  amercias_small   3,477      1,587    2,763    0.019     0.008     0.024   \n",
       "\n",
       "   QualityCover  Gress  Cov =0.9  Cov =0.8  Cov =0.7  Cov =0.6  Cov =0.5  \n",
       "0           474  453.0       322       239       188       156       140  \n",
       "1           636    NaN       214       182       172       169       168  \n",
       "2           377  372.0       208       158       124       100        81  \n",
       "3           275  277.0       131       102        87        77        69  \n",
       "4           217  178.0        52        44        42        42        42  "
      ]
     },
     "execution_count": 3,
     "metadata": {},
     "output_type": "execute_result"
    }
   ],
   "source": [
    "df.head()"
   ]
  },
  {
   "cell_type": "code",
   "execution_count": null,
   "metadata": {},
   "outputs": [],
   "source": []
  },
  {
   "cell_type": "code",
   "execution_count": 4,
   "metadata": {},
   "outputs": [
    {
     "name": "stdout",
     "output_type": "stream",
     "text": [
      "corr(N Stress, M stress)=\n"
     ]
    },
    {
     "data": {
      "text/plain": [
       "0.9731761473101991"
      ]
     },
     "execution_count": 4,
     "metadata": {},
     "output_type": "execute_result"
    }
   ],
   "source": [
    "print(\"corr(N Stress, M stress)=\")\n",
    "df['N Stress'].corr(df['M stress'])"
   ]
  },
  {
   "cell_type": "code",
   "execution_count": 5,
   "metadata": {},
   "outputs": [
    {
     "name": "stdout",
     "output_type": "stream",
     "text": [
      "corr(density, M stress)=\n"
     ]
    },
    {
     "data": {
      "text/plain": [
       "0.5186821106399899"
      ]
     },
     "execution_count": 5,
     "metadata": {},
     "output_type": "execute_result"
    }
   ],
   "source": [
    "print(\"corr(density, M stress)=\")\n",
    "df['Density'].corr(df['M stress'])"
   ]
  },
  {
   "cell_type": "code",
   "execution_count": 6,
   "metadata": {},
   "outputs": [
    {
     "name": "stdout",
     "output_type": "stream",
     "text": [
      "corr(density, N stress)=\n"
     ]
    },
    {
     "data": {
      "text/plain": [
       "0.4798952743195215"
      ]
     },
     "execution_count": 6,
     "metadata": {},
     "output_type": "execute_result"
    }
   ],
   "source": [
    "print(\"corr(density, N stress)=\")\n",
    "df['Density'].corr(df['N Stress'])"
   ]
  },
  {
   "cell_type": "code",
   "execution_count": 7,
   "metadata": {},
   "outputs": [
    {
     "data": {
      "text/plain": [
       "Text(0, 0.5, 'N stress')"
      ]
     },
     "execution_count": 7,
     "metadata": {},
     "output_type": "execute_result"
    },
    {
     "data": {
      "image/png": "[encoded data removed]",
      "text/plain": [
       "<Figure size 432x288 with 1 Axes>"
      ]
     },
     "metadata": {
      "needs_background": "light"
     },
     "output_type": "display_data"
    }
   ],
   "source": [
    "plt.plot(df['Density'].values.tolist(),df['N Stress'])\n",
    "plt.xlabel(\"Density\")\n",
    "plt.ylabel(\"N stress\")"
   ]
  },
  {
   "cell_type": "code",
   "execution_count": 10,
   "metadata": {},
   "outputs": [
    {
     "data": {
      "text/plain": [
       "Text(0, 0.5, 'M stress')"
      ]
     },
     "execution_count": 10,
     "metadata": {},
     "output_type": "execute_result"
    },
    {
     "data": {
      "image/png": "[encoded data removed]",
      "text/plain": [
       "<Figure size 432x288 with 1 Axes>"
      ]
     },
     "metadata": {
      "needs_background": "light"
     },
     "output_type": "display_data"
    }
   ],
   "source": [
    "plt.plot(df['Density'].values.tolist(),df['M stress'])\n",
    "plt.xlabel(\"Density\")\n",
    "plt.ylabel(\"M stress\")"
   ]
  },
  {
   "cell_type": "code",
   "execution_count": 9,
   "metadata": {},
   "outputs": [
    {
     "data": {
      "text/plain": [
       "Text(0, 0.5, 'M stress')"
      ]
     },
     "execution_count": 9,
     "metadata": {},
     "output_type": "execute_result"
    },
    {
     "data": {
      "image/png": "[encoded data removed]",
      "text/plain": [
       "<Figure size 432x288 with 1 Axes>"
      ]
     },
     "metadata": {
      "needs_background": "light"
     },
     "output_type": "display_data"
    }
   ],
   "source": [
    "plt.plot(df['N Stress'].values.tolist(),df['M stress'])\n",
    "plt.xlabel(\"N Stress\")\n",
    "plt.ylabel(\"M stress\")"
   ]
  },
  {
   "cell_type": "code",
   "execution_count": null,
   "metadata": {},
   "outputs": [],
   "source": []
  },
  {
   "cell_type": "code",
   "execution_count": null,
   "metadata": {},
   "outputs": [],
   "source": []
  },
  {
   "cell_type": "code",
   "execution_count": null,
   "metadata": {},
   "outputs": [],
   "source": []
  },
  {
   "cell_type": "code",
   "execution_count": null,
   "metadata": {},
   "outputs": [],
   "source": []
  },
  {
   "cell_type": "code",
   "execution_count": null,
   "metadata": {},
   "outputs": [],
   "source": []
  },
  {
   "cell_type": "code",
   "execution_count": null,
   "metadata": {},
   "outputs": [],
   "source": []
  },
  {
   "cell_type": "code",
   "execution_count": null,
   "metadata": {},
   "outputs": [],
   "source": []
  },
  {
   "cell_type": "code",
   "execution_count": null,
   "metadata": {},
   "outputs": [],
   "source": []
  }
 ],
 "metadata": {
  "kernelspec": {
   "display_name": "Python 3",
   "language": "python",
   "name": "python3"
  },
  "language_info": {
   "codemirror_mode": {
    "name": "ipython",
    "version": 3
   },
   "file_extension": ".py",
   "mimetype": "text/x-python",
   "name": "python",
   "nbconvert_exporter": "python",
   "pygments_lexer": "ipython3",
   "version": "3.8.5"
  }
 },
 "nbformat": 4,
 "nbformat_minor": 4
}
